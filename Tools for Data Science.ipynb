{
 "cells": [
  {
   "cell_type": "markdown",
   "id": "faf057ff",
   "metadata": {},
   "source": [
    "# My Jupyter Notebook on IBM Watson Studio"
   ]
  },
  {
   "cell_type": "code",
   "execution_count": null,
   "id": "6bfab159",
   "metadata": {},
   "outputs": [],
   "source": [
    "# I am Anushka Sharma. \n",
    "#I am a Junior Data Scientist. \n",
    "#I am passionate about learning new things & implement ML Algo to the Dataset."
   ]
  },
  {
   "cell_type": "code",
   "execution_count": 1,
   "id": "9f101b27",
   "metadata": {},
   "outputs": [
    {
     "data": {
      "text/plain": [
       "4"
      ]
     },
     "execution_count": 1,
     "metadata": {},
     "output_type": "execute_result"
    }
   ],
   "source": [
    "2*2"
   ]
  },
  {
   "cell_type": "code",
   "execution_count": null,
   "id": "683efeb1",
   "metadata": {},
   "outputs": [],
   "source": [
    "#this is a bulleted list\n",
    "#This is a Numbered List and above is the horizontal rule."
   ]
  }
 ],
 "metadata": {
  "kernelspec": {
   "display_name": "Python 3 (ipykernel)",
   "language": "python",
   "name": "python3"
  },
  "language_info": {
   "codemirror_mode": {
    "name": "ipython",
    "version": 3
   },
   "file_extension": ".py",
   "mimetype": "text/x-python",
   "name": "python",
   "nbconvert_exporter": "python",
   "pygments_lexer": "ipython3",
   "version": "3.9.12"
  }
 },
 "nbformat": 4,
 "nbformat_minor": 5
}
